{
 "cells": [
  {
   "cell_type": "code",
   "execution_count": 1,
   "metadata": {},
   "outputs": [],
   "source": [
    "import torch\n",
    "from torchvision import datasets, transforms\n",
    "from fgsm import FGSM\n",
    "import numpy as np"
   ]
  },
  {
   "cell_type": "code",
   "execution_count": null,
   "metadata": {},
   "outputs": [],
   "source": [
    "# Set device to use (GPU or CPU)\n",
    "device = torch.device(\"cuda\" if torch.cuda.is_available() else \"cpu\")\n",
    "\n",
    "# Define mean and standard deviation of CIFAR-10 dataset\n",
    "mean = [0.4914, 0.4822, 0.4465]\n",
    "std = [0.2023, 0.1994, 0.2010]\n",
    "\n",
    "# Define normalize transformation for input images\n",
    "transform = transforms.Compose(\n",
    "    [transforms.ToTensor(),\n",
    "     transforms.Normalize(mean, std)])\n"
   ]
  },
  {
   "cell_type": "code",
   "execution_count": null,
   "metadata": {},
   "outputs": [],
   "source": [
    "# Load CIFAR-10 dataset\n",
    "testset = datasets.CIFAR10(root='./data', train=False, download=True, transform=transform)\n",
    "testloader = torch.utils.data.DataLoader(testset, batch_size=1, shuffle=True)"
   ]
  },
  {
   "cell_type": "code",
   "execution_count": null,
   "metadata": {},
   "outputs": [],
   "source": [
    "# Load pre-trained model\n",
    "model = torch.load('model.pt').eval().to(device)"
   ]
  },
  {
   "cell_type": "code",
   "execution_count": null,
   "metadata": {},
   "outputs": [],
   "source": [
    "# Instantiate FGSM attack\n",
    "data_min = np.min((0 - np.array(mean)) /\n",
    "                      np.array(std))\n",
    "data_max = np.max((1 - np.array(mean)) /\n",
    "                    np.array(std))\n",
    "attack = FGSM(data_min, data_max, epsilon=0.3 * 255, num_steps=50, alpha=0.01, early_stop=True)"
   ]
  },
  {
   "cell_type": "code",
   "execution_count": null,
   "metadata": {},
   "outputs": [],
   "source": [
    "total = 0\n",
    "successes = 0\n",
    "\n",
    "# Test the model on the dataset with and without attacks\n",
    "for data, target in testloader:\n",
    "    # Send data and target tensors to device\n",
    "    data, target = data.to(device), target.to(device)\n",
    "\n",
    "    # Generate adversarial example using FGSM attack\n",
    "    adv_inputs, success, _ = attack(model, data, target)\n",
    "\n",
    "    # Calculate prediction of original and adversarial input\n",
    "    output = model(data)\n",
    "    adv_output = model(adv_inputs)\n",
    "\n",
    "    # Check if attack was successful and add to successes\n",
    "    if success:\n",
    "        successes += 1\n",
    "\n",
    "    # Increment total number of predictions\n",
    "    total += 1\n",
    "\n",
    "# Calculate and print attack success rate\n",
    "attack_success_rate = (successes / total) * 100\n",
    "print('FGSM attack success rate on CIFAR-10 dataset: {:.2f}%'.format(attack_success_rate))"
   ]
  }
 ],
 "metadata": {
  "kernelspec": {
   "display_name": "Python 3",
   "language": "python",
   "name": "python3"
  },
  "language_info": {
   "codemirror_mode": {
    "name": "ipython",
    "version": 3
   },
   "file_extension": ".py",
   "mimetype": "text/x-python",
   "name": "python",
   "nbconvert_exporter": "python",
   "pygments_lexer": "ipython3",
   "version": "3.10.11"
  },
  "orig_nbformat": 4
 },
 "nbformat": 4,
 "nbformat_minor": 2
}
